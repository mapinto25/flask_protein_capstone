{
 "cells": [
  {
   "cell_type": "code",
   "execution_count": 1,
   "metadata": {},
   "outputs": [],
   "source": [
    "from pathlib import Path\n",
    "from sklearn.decomposition import PCA\n",
    "import numpy as np\n",
    "import pandas as pd\n",
    "import plotly.express as px"
   ]
  },
  {
   "cell_type": "code",
   "execution_count": 10,
   "metadata": {},
   "outputs": [],
   "source": [
    "import json\n",
    "from pathlib import Path\n",
    "import shutil\n",
    "import os"
   ]
  },
  {
   "cell_type": "code",
   "execution_count": 11,
   "metadata": {},
   "outputs": [],
   "source": [
    "def gen_arr(embeddings, seq_id_to_label):\n",
    "    \"\"\"\n",
    "    Iterate over all of the sequence IDs in the given subset of the dataset (embeddings),\n",
    "    as a nested numpy array. Produce a numpy array of the average embeddings for each\n",
    "    sequence, as will a list of the labels by looking up the sequence IDs in seq_id_to_label\n",
    "    Args:\n",
    "        embeddings (numpy.lib.npyio.NpzFile): Nested numpy array containing embeddings for each sequence ID\n",
    "        seq_id_to_label (dict[str,str]): Map from sequence ID to classification label\n",
    "    Returns:\n",
    "        output (np.array): Average embeddings for each sequence\n",
    "        labels (list[str])\n",
    "    \"\"\"\n",
    "    keys = embeddings.files\n",
    "    output, labels = [], []\n",
    "    for key in keys:\n",
    "        d = embeddings[key].item()[\"avg\"]\n",
    "        labels.append(seq_id_to_label[key])\n",
    "        output.append(d)\n",
    "    return np.array(output), labels"
   ]
  },
  {
   "cell_type": "code",
   "execution_count": 12,
   "metadata": {},
   "outputs": [],
   "source": [
    "from flask import Flask, current_app, jsonify, request, render_template, redirect, send_file, url_for"
   ]
  },
  {
   "cell_type": "code",
   "execution_count": 13,
   "metadata": {},
   "outputs": [],
   "source": [
    "def show_visualization():\n",
    "    \"\"\"\n",
    "    Render PCA visualization\n",
    "    \"\"\"\n",
    "    return render_template(\"pca_index.html\")"
   ]
  },
  {
   "cell_type": "code",
   "execution_count": 21,
   "metadata": {},
   "outputs": [],
   "source": [
    "def visualize_data():\n",
    "    \"\"\"\n",
    "    Prepare and render an interactive plotly PCA visualization given the following:\n",
    "        * n_components: Number of PCA components (must be 2 or 3)\n",
    "        * targets: Labels file\n",
    "        * input_data: gzipped npz file with sequence embeddings\n",
    "    \"\"\"\n",
    "    \n",
    "    n_components = 3\n",
    "\n",
    "    #load labels file\n",
    "    lookup_d = json.load(open('enzyme_to_class_tape.json'))\n",
    "\n",
    "    #load npz file\n",
    "    input_data = np.load('tape.npz', allow_pickle=True)\n",
    "\n",
    "    \n",
    "\n",
    "    print(\"generating dataframes\")\n",
    "    embed_arr, embed_labels = gen_arr(input_data, lookup_d)\n",
    "    print(\"generating PCA\")\n",
    "    pca = PCA(n_components=3)\n",
    "    principal_components = pca.fit_transform(embed_arr)\n",
    "    principal_df = pd.DataFrame(\n",
    "        data=principal_components, columns=[\"pc1\", \"pc2\", \"pc3\"]\n",
    "    )\n",
    "    principal_df[\"target\"] = embed_labels\n",
    "    print(\"generating plot\")\n",
    "\n",
    "    # Adjust PCA according to the number of components\n",
    "    if n_components == 3:\n",
    "        fig = px.scatter_3d(\n",
    "            principal_df,\n",
    "            x=\"pc1\",\n",
    "            y=\"pc2\",\n",
    "            z=\"pc3\",\n",
    "            color=\"target\",\n",
    "            color_discrete_sequence=px.colors.qualitative.G10,\n",
    "        )\n",
    "    if n_components == 2:\n",
    "        fig = px.scatter(\n",
    "            principal_df,\n",
    "            x=\"pc1\",\n",
    "            y=\"pc2\",\n",
    "            color=\"target\",\n",
    "            color_discrete_sequence=px.colors.qualitative.G10,\n",
    "        )\n",
    "    \n",
    "    fig.write_html(\"templates/pca.html\")\n",
    "\n",
    "    #return redirect(url_for(\"show_visualization\"))\n",
    "    return"
   ]
  },
  {
   "cell_type": "code",
   "execution_count": 22,
   "metadata": {},
   "outputs": [
    {
     "name": "stdout",
     "output_type": "stream",
     "text": [
      "generating dataframes\n",
      "generating PCA\n",
      "generating plot\n"
     ]
    }
   ],
   "source": [
    "visualize_data()"
   ]
  },
  {
   "cell_type": "code",
   "execution_count": null,
   "metadata": {},
   "outputs": [],
   "source": []
  }
 ],
 "metadata": {
  "kernelspec": {
   "display_name": "Python 3",
   "language": "python",
   "name": "python3"
  },
  "language_info": {
   "codemirror_mode": {
    "name": "ipython",
    "version": 3
   },
   "file_extension": ".py",
   "mimetype": "text/x-python",
   "name": "python",
   "nbconvert_exporter": "python",
   "pygments_lexer": "ipython3",
   "version": "3.7.4"
  }
 },
 "nbformat": 4,
 "nbformat_minor": 4
}
